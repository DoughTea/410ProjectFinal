{
 "cells": [
  {
   "cell_type": "markdown",
   "id": "04015c8e-a82c-49cf-a171-d569008673be",
   "metadata": {},
   "source": [
    "# Motivation\n",
    "## Why are you planning to do this analysis?\n",
    "I am planning to do this analysis because I want to know if I will ever be able to afford a Porsche. While I don't want to say that it is my dream, I do hope to own one in the far future. \n",
    "## Why is it potentially interesting and useful, from a scientific, practical, and/or human-centered perspective? \n",
    "I think that this will be interesting. I want to looking when it became cheaper to get an automatic vs a manual. I want to look into the number being listed over time vs the price. To see if less are being posted and the proces are going but (very bad for me). This research could help others see if they too will every be able to get a Porsche in the future. I think that the research could also be transfered to other cars if poeple wanted to copy my methods and look into a different one. \n",
    "## What do you hope to learn?\n",
    "I hope to learn that the price is not changing too much when considering inflation and that there is still a healthy amount being sold. Even better would be if the price was going down. But academically I hope to improve my open research process, getting better at leaving notes on what I am doing and why. I also want to improve my data analysis skills.\n",
    "\n",
    "# Data \n",
    "## What dataset do you plan to use, and why? \n",
    "I plan to use a data set from craiglist about car listings in the United States. I am choosing it because it is hard to get your hands on large car selling information for free and so I chose this one beacause it is large and free. It also contains a bunch of columns that might be helpful for analysis later. \n",
    "## Summarize what is represented in the dataset\n",
    "It has 426,881 rows and 26 columns of data. It is from all of the United States. While I can't use all of it since I am only focusing on Porsches, it should have enough rows of them to be usable. If it does not then I will have to switch projects. It has these url, region, region_url, price, year, manufacturer, model, condition, cylinders, fuel, odometer, title_status, transmission, VIN, drive, size, type, paint_color, image_url, description, county, state, lat, long, posting_date. \n",
    "## Link to the dataset (it must be publicly available)\n",
    "https://www.kaggle.com/datasets/austinreese/craigslist-carstrucks-data\n",
    "## Specify license and/or terms of use for the data\n",
    "CC0: Public Domain\n",
    "## Explain why this dataset is a suitable one for addressing your research goal listed above\n",
    "It should have all the nessary variables that I need to find out relationships. It also is large enough where I should have enough data to look at and graph. \n",
    "## Highlight any possible ethical considerations to using this dataset\n",
    "I don't think that anyone would have any ethical concerns for using this data. The fixation on owning a car or living in a car centered world are concerning but that doesn't really pertain to this dataset.  \n",
    "\n",
    "# Unknowns: \n",
    "## Are there any factors outside of your control that might impact your ability to complete this project by the end of the quarter?\n",
    "I think that this is very doable in the time we have left. I might not be able to get the concret results that I want but I still should have enough material to have a project. I also think that my interesting in this will not deminish as time goes on.  \n",
    "\n",
    "# Overview and research questions:\n",
    "## Overview\n",
    "After going through the data more I am not confident that I will be able to see if the price is going up over time and less of them are being posted. Since the data does not span a very large data. So instead I will look into when manuals became less desirable, IE when did the average price of an automatic rise above that of a manual.\n",
    "## Research Question\n",
    "What year did it become cheaper to get a manual, if ever?\n",
    "## Hypothesis\n",
    "I think that it will depend on the model of car. Especially if I am looking at cars that are not sports cars. In the porsche market I think that it will be around the 2000's, since from my understanding thats when automatics started to get really good.\n",
    "\n",
    "# Background\n",
    "## Other research\n",
    "It looks like the mid 2000's were when automatic cars started to become more efficient than manuals, largely due to the use of computers and more gears in cars. \n",
    "There are also website that have graphs that show the price over time for cars. It's not super easy to use and they don't have every car but it is there.\n",
    "\n",
    "# Methology\n",
    "## Analysis\n",
    "While I am not certain what I will do for the analysis, it will probable be a regression analysis since I am trying to look at the relationship between two variables. A QQ-plot would also be a good way to see what the relationship looks like. \n",
    "## Presentation\n",
    "Graphs are going to be my friend here. Showing the average price by year for each in a bar chart would be effective. A QQ-plot would also be great for this situation. But unless chat gpt can walk me through it in tableau then I will not do it since I HATE R which is where my QQ-plot graph code is.\n",
    "## Why\n",
    "These methods make sense for me since I know how to do them and they would be useful in finding the relationship. They would show how the price changes over time and it would be easy to compare.\n",
    "\n"
   ]
  }
 ],
 "metadata": {
  "kernelspec": {
   "display_name": "Python 3 (ipykernel)",
   "language": "python",
   "name": "python3"
  },
  "language_info": {
   "codemirror_mode": {
    "name": "ipython",
    "version": 3
   },
   "file_extension": ".py",
   "mimetype": "text/x-python",
   "name": "python",
   "nbconvert_exporter": "python",
   "pygments_lexer": "ipython3",
   "version": "3.9.7"
  }
 },
 "nbformat": 4,
 "nbformat_minor": 5
}
